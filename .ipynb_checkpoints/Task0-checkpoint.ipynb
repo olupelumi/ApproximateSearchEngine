{
 "cells": [
  {
   "cell_type": "markdown",
   "metadata": {},
   "source": [
    "### Oluwapelumi Fafowora (owf1)"
   ]
  },
  {
   "cell_type": "code",
   "execution_count": 1,
   "metadata": {},
   "outputs": [],
   "source": [
    "from sklearn.utils import murmurhash3_32"
   ]
  },
  {
   "cell_type": "code",
   "execution_count": 30,
   "metadata": {},
   "outputs": [],
   "source": [
    "sed = 13"
   ]
  },
  {
   "cell_type": "markdown",
   "metadata": {},
   "source": [
    "### Implement a simple MinHash generator. Given an input string and m. Return m hashcodes"
   ]
  },
  {
   "cell_type": "code",
   "execution_count": 36,
   "metadata": {},
   "outputs": [],
   "source": [
    "def minhash(stg, sd):\n",
    "    '''\n",
    "    Inputs a string stg\n",
    "    Returns the minimum hash value using the 3-gram representation of the strings\n",
    "    '''\n",
    "    \n",
    "    #Converting the stg into a set of 3-grams\n",
    "    slen = len(stg)\n",
    "    three_gram_lst = [stg[i:i+3] for i in range(slen-2)]    \n",
    "    #hashes each 3-gram and returns the minhash value\n",
    "    return min([murmurhash3_32(strg,seed = sd) for strg in three_gram_lst])\n",
    "    "
   ]
  },
  {
   "cell_type": "code",
   "execution_count": 40,
   "metadata": {},
   "outputs": [
    {
     "name": "stdout",
     "output_type": "stream",
     "text": [
      "-740032803\n"
     ]
    }
   ],
   "source": [
    "print(minhash(\"you up?\",7))"
   ]
  },
  {
   "cell_type": "code",
   "execution_count": 38,
   "metadata": {},
   "outputs": [],
   "source": [
    "def minhash_generator(stg, m):\n",
    "    '''\n",
    "    Inputs a string stg and an integer m \n",
    "    Returns m minhashes of stg\n",
    "    '''\n",
    "    hash_arr = [minhash(stg, hsh) for hsh in range(m)]\n",
    "    return hash_arr\n",
    "    "
   ]
  },
  {
   "cell_type": "code",
   "execution_count": 42,
   "metadata": {},
   "outputs": [
    {
     "name": "stdout",
     "output_type": "stream",
     "text": [
      "[-31670852, -1884678989, -2051367432, -1588244665, -1630555212, -1852347288, -777814675, -740032803]\n"
     ]
    }
   ],
   "source": [
    "print(minhash_generator(\"you up?\",8))"
   ]
  },
  {
   "cell_type": "markdown",
   "metadata": {},
   "source": [
    "### Generate 100 MinHash values of the following two strings:"
   ]
  },
  {
   "cell_type": "code",
   "execution_count": 43,
   "metadata": {},
   "outputs": [],
   "source": [
    "s1 = \"The mission statement of the WCSCC and area employers recognize the importance of good attendance on the job. Any student whose absences exceed 18 days is jeopardizing their opportunity for advanced placement as well as hindering his/her likelihood for successfully completing their program.\"\n",
    "s2 = \"The WCSCC’s mission statement and surrounding employers recognize the importance of great attendance. Any student who is absent more than 18 days will loose the opportunity for successfully completing their trade program.\""
   ]
  },
  {
   "cell_type": "code",
   "execution_count": 88,
   "metadata": {},
   "outputs": [],
   "source": [
    "s1_minh_lst = minhash_generator(s1, 100)"
   ]
  },
  {
   "cell_type": "code",
   "execution_count": 89,
   "metadata": {},
   "outputs": [],
   "source": [
    "s2_minh_lst = minhash_generator(s2, 100)"
   ]
  },
  {
   "cell_type": "code",
   "execution_count": 48,
   "metadata": {},
   "outputs": [],
   "source": [
    "def compute_num_collisions(arr1,arr2):\n",
    "    '''\n",
    "    Inputs two arrays of equal sizes\n",
    "    Returns the number of values that were the same at the same index divided by the len of the array\n",
    "    '''\n",
    "    len_arr = len(arr1)\n",
    "    num_coll = 0\n",
    "    for i in range(len_arr):\n",
    "        if arr1[i] == arr2[i]:\n",
    "            num_coll += 1\n",
    "    return (num_coll/len_arr)"
   ]
  },
  {
   "cell_type": "code",
   "execution_count": 94,
   "metadata": {},
   "outputs": [
    {
     "name": "stdout",
     "output_type": "stream",
     "text": [
      "0.45\n"
     ]
    }
   ],
   "source": [
    "#estimating the jaccard similarity of s1 and s2\n",
    "print(compute_num_collisions(s1_minh_lst, s2_minh_lst))\n",
    "#0.45"
   ]
  },
  {
   "cell_type": "code",
   "execution_count": 76,
   "metadata": {},
   "outputs": [],
   "source": [
    "def jaccard_sim(str1, str2):\n",
    "    '''\n",
    "    Inputs two strings s1 and s2\n",
    "    Returns the  true jaccard similarity of the two strings\n",
    "    '''\n",
    "    set_str1 = set([])\n",
    "    set_str2 = set([])\n",
    "    \n",
    "    #Creating the three gram representation of each of the strings\n",
    "    #for string 1\n",
    "    for i in range(len(str1)-2):\n",
    "        set_str1.add(str1[i:i+3])\n",
    "    #for string 2\n",
    "    for i in range(len(str1)-2):\n",
    "        set_str2.add(str2[i:i+3])\n",
    "    \n",
    "    #calculate the cardinality of the intersection and the union of the two\n",
    "    card_intersection = set_str1.intersection(set_str2)\n",
    "    card_union = set_str1.union(set_str2)\n",
    "    return(len(card_intersection)/len(card_union))"
   ]
  },
  {
   "cell_type": "code",
   "execution_count": 95,
   "metadata": {},
   "outputs": [
    {
     "data": {
      "text/plain": [
       "0.5173611111111112"
      ]
     },
     "execution_count": 95,
     "metadata": {},
     "output_type": "execute_result"
    }
   ],
   "source": [
    "jaccard_sim(s1,s2)\n",
    "#0.5173611111111112"
   ]
  },
  {
   "cell_type": "markdown",
   "metadata": {},
   "source": [
    "My estimate using minhashes is 0.45 while the true jaccard similarity is about 0.517"
   ]
  }
 ],
 "metadata": {
  "kernelspec": {
   "display_name": "Python 3",
   "language": "python",
   "name": "python3"
  },
  "language_info": {
   "codemirror_mode": {
    "name": "ipython",
    "version": 3
   },
   "file_extension": ".py",
   "mimetype": "text/x-python",
   "name": "python",
   "nbconvert_exporter": "python",
   "pygments_lexer": "ipython3",
   "version": "3.7.4"
  }
 },
 "nbformat": 4,
 "nbformat_minor": 2
}
