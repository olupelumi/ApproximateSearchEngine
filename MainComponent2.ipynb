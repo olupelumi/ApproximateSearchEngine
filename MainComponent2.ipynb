{
 "cells": [
  {
   "cell_type": "code",
   "execution_count": 1,
   "metadata": {},
   "outputs": [],
   "source": [
    "#necessary imports\n",
    "import Minhash\n",
    "import csv\n",
    "import pandas as pd"
   ]
  },
  {
   "cell_type": "code",
   "execution_count": 3,
   "metadata": {},
   "outputs": [],
   "source": [
    "#getting in the data we'll be using\n",
    "data = pd.read_csv('user-ct-test-collection-01.txt', sep = \"\\t\")\n",
    "urllist = data.ClickURL.dropna().unique()"
   ]
  },
  {
   "cell_type": "markdown",
   "metadata": {},
   "source": [
    "Insert all URLs to your MinHash Hashtables. Use K = 2, L = 50, B = 64, R = 220 You can treat each URL as a string and use 3-gram in your MinHash function."
   ]
  },
  {
   "cell_type": "code",
   "execution_count": 4,
   "metadata": {},
   "outputs": [
    {
     "data": {
      "text/plain": [
       "377870"
      ]
     },
     "execution_count": 4,
     "metadata": {},
     "output_type": "execute_result"
    }
   ],
   "source": [
    "len(urllist) #there seems to be no duplicates"
   ]
  },
  {
   "cell_type": "markdown",
   "metadata": {},
   "source": [
    "Insert all URLs to your MinHash Hashtables. Use K = 2, L = 50, B = 64, R = 220. You can treat each URL as a string and use 3-gram in your MinHash function."
   ]
  },
  {
   "cell_type": "code",
   "execution_count": 5,
   "metadata": {},
   "outputs": [],
   "source": [
    "minhashTable1 = Minhash.HashTable(K = 2, L = 50, B = 64, R = 2**10)"
   ]
  },
  {
   "cell_type": "code",
   "execution_count": 6,
   "metadata": {},
   "outputs": [],
   "source": [
    "id_map = {} #used to keep track of the ids and strings. an id will map to a string"
   ]
  },
  {
   "cell_type": "code",
   "execution_count": 7,
   "metadata": {},
   "outputs": [],
   "source": [
    "seen_set = set([])"
   ]
  },
  {
   "cell_type": "code",
   "execution_count": 8,
   "metadata": {},
   "outputs": [],
   "source": [
    "eyedee = 0\n",
    "for strg in urllist[:50000]:\n",
    "    if strg not in seen_set:\n",
    "        seen_set.add(strg)\n",
    "        minhashTable1.insert(strg, eyedee)\n",
    "        id_map[eyedee] = strg\n",
    "        eyedee += 1"
   ]
  },
  {
   "cell_type": "code",
   "execution_count": 9,
   "metadata": {},
   "outputs": [
    {
     "data": {
      "text/plain": [
       "16959"
      ]
     },
     "execution_count": 9,
     "metadata": {},
     "output_type": "execute_result"
    }
   ],
   "source": [
    "len(minhashTable1.L_lst[2])"
   ]
  },
  {
   "cell_type": "markdown",
   "metadata": {},
   "source": [
    "### Task 1:\n",
    "Sample 200 URLs from urllist as the query set. For each URL, compute the MinHash codes and retrieve all the items in the hash tables. Evaluate the quality of retrieved items by reporting the average Jaccard similarity of the query URL and retrieved URLs.\n"
   ]
  },
  {
   "cell_type": "code",
   "execution_count": 10,
   "metadata": {},
   "outputs": [],
   "source": [
    "import random\n",
    "random.seed(27)"
   ]
  },
  {
   "cell_type": "code",
   "execution_count": 11,
   "metadata": {},
   "outputs": [],
   "source": [
    "#query_set = set([random.choice(urllist) for i in range(200)])\n",
    "query_set = [random.choice(urllist) for i in range(200)]"
   ]
  },
  {
   "cell_type": "code",
   "execution_count": 12,
   "metadata": {},
   "outputs": [],
   "source": [
    "#Jaccard Similarity\n",
    "def jaccard_sim(str1, str2):\n",
    "    '''\n",
    "    Inputs two strings s1 and s2\n",
    "    Returns the  true jaccard similarity of the two strings\n",
    "    '''\n",
    "    set_str1 = set([])\n",
    "    set_str2 = set([])\n",
    "    \n",
    "    #Creating the three gram representation of each of the strings\n",
    "    #for string 1\n",
    "    for i in range(len(str1)-2):\n",
    "        set_str1.add(str1[i:i+3])\n",
    "    #for string 2\n",
    "    for i in range(len(str1)-2):\n",
    "        set_str2.add(str2[i:i+3])\n",
    "    \n",
    "    #calculate the cardinality of the intersection and the union of the two\n",
    "    card_intersection = set_str1.intersection(set_str2)\n",
    "    card_union = set_str1.union(set_str2)\n",
    "    return(len(card_intersection)/len(card_union))"
   ]
  },
  {
   "cell_type": "code",
   "execution_count": 13,
   "metadata": {},
   "outputs": [],
   "source": [
    "from statistics import mean \n",
    "import time"
   ]
  },
  {
   "cell_type": "code",
   "execution_count": 21,
   "metadata": {},
   "outputs": [
    {
     "name": "stdout",
     "output_type": "stream",
     "text": [
      "322.677348613739\n"
     ]
    }
   ],
   "source": [
    "j_sim_avg_lst = []\n",
    "time0 = time.time()\n",
    "#list of the average similarities \n",
    "top10_avg_lst = []\n",
    "for query in query_set:\n",
    "    sim_ids = minhashTable1.lookup(query) #the set of similar items\n",
    "    sim_strs = [id_map[aidee] for aidee in sim_ids] # the set of similar strings\n",
    "    \n",
    "    #list of the jaccard similarities of the query and the similar results\n",
    "    q_jaccard_sim_lst = [jaccard_sim(query, sim_string) for sim_string in sim_strs]\n",
    "    avg_sim = mean(q_jaccard_sim_lst)\n",
    "    \n",
    "    q_jaccard_sim_lst.sort(reverse = True)\n",
    "    top10_avg_sim = mean(q_jaccard_sim_lst[:10])\n",
    "    \n",
    "    j_sim_avg_lst.append(avg_sim)\n",
    "    top10_avg_lst.append(top10_avg_sim)\n",
    "print(time.time() - time0)"
   ]
  },
  {
   "cell_type": "markdown",
   "metadata": {},
   "source": [
    "1. Report the mean Jaccard similarity of the URL retrieved."
   ]
  },
  {
   "cell_type": "code",
   "execution_count": 15,
   "metadata": {},
   "outputs": [
    {
     "data": {
      "text/plain": [
       "0.2249050242276318"
      ]
     },
     "execution_count": 15,
     "metadata": {},
     "output_type": "execute_result"
    }
   ],
   "source": [
    "mean(j_sim_avg_lst) #0.2249050242276318"
   ]
  },
  {
   "cell_type": "markdown",
   "metadata": {},
   "source": [
    "2. Now for every retrieved set (candidate set), filter it to find the top-10 URLs only (based on\n",
    "actual Jaccard Similarity) . Report the mean Jaccard similarity of the top-10 URLs retrieved\n",
    "after filtering."
   ]
  },
  {
   "cell_type": "code",
   "execution_count": 16,
   "metadata": {},
   "outputs": [
    {
     "data": {
      "text/plain": [
       "0.4720814311978734"
      ]
     },
     "execution_count": 16,
     "metadata": {},
     "output_type": "execute_result"
    }
   ],
   "source": [
    "mean(top10_avg_lst)"
   ]
  },
  {
   "cell_type": "markdown",
   "metadata": {},
   "source": [
    "3. Report the query time."
   ]
  },
  {
   "cell_type": "code",
   "execution_count": 17,
   "metadata": {},
   "outputs": [],
   "source": [
    "#322.677348613739"
   ]
  },
  {
   "cell_type": "markdown",
   "metadata": {},
   "source": [
    "### Task 2: \n",
    "Write a function to compute the pairwise Jaccard similarity of those 200 URLs in the query\n",
    "set with all the other elements using a brute-force way. Use the computational time for this task to\n",
    "estimate the expected total time of computing the pairwise Jaccard similarity of all URLs."
   ]
  },
  {
   "cell_type": "code",
   "execution_count": 22,
   "metadata": {},
   "outputs": [
    {
     "name": "stdout",
     "output_type": "stream",
     "text": [
      "309.7520561218262\n"
     ]
    }
   ],
   "source": [
    "#Essentially I have to find the jaccard similarity of these 200 with all the other strings. Brute force Jaccard. I see\n",
    "time1 = time.time()\n",
    "for query in query_set: #each string in the query\n",
    "    for string2 in urllist[:50000]:\n",
    "        if string2 != query:\n",
    "            j_sim = jaccard_sim(query,string2)\n",
    "print(time.time() - time1)            "
   ]
  },
  {
   "cell_type": "code",
   "execution_count": 23,
   "metadata": {},
   "outputs": [],
   "source": [
    "#time: 309.7520561218262"
   ]
  },
  {
   "cell_type": "markdown",
   "metadata": {},
   "source": [
    "### Task 3: \n",
    "Tuning K (K = 2, 3, 4, 5, 6) and L (L = 20, 50, 100) observe how the average jaccard similarities of the query url and retrieved urls change accordingly.\n",
    "1. Report the mean Jaccard similarity of the URL retrieved and also the time per query for each\n",
    "of the combination."
   ]
  },
  {
   "cell_type": "code",
   "execution_count": 28,
   "metadata": {},
   "outputs": [
    {
     "name": "stdout",
     "output_type": "stream",
     "text": [
      "K: 2, L: 20, time: 240.8646821975708 , avg simiarity:0.237377802633455\n",
      "K: 2, L: 50, time: 326.92490553855896 , avg simiarity:0.22730035431820625\n",
      "K: 2, L: 100, time: 491.1278853416443 , avg simiarity:0.2219665772378992\n",
      "K: 3, L: 20, time: 94.01960778236389 , avg simiarity:0.2581513411860116\n",
      "K: 3, L: 50, time: 310.67729902267456 , avg simiarity:0.23579347629353417\n",
      "K: 3, L: 100, time: 461.5170123577118 , avg simiarity:0.2337374103282454\n"
     ]
    },
    {
     "ename": "StatisticsError",
     "evalue": "mean requires at least one data point",
     "output_type": "error",
     "traceback": [
      "\u001b[1;31m---------------------------------------------------------------------------\u001b[0m",
      "\u001b[1;31mStatisticsError\u001b[0m                           Traceback (most recent call last)",
      "\u001b[1;32m<ipython-input-28-4a3043aabaa6>\u001b[0m in \u001b[0;36m<module>\u001b[1;34m\u001b[0m\n\u001b[0;32m     16\u001b[0m             \u001b[1;31m#list of the jaccard similarities of the query and the similar results\u001b[0m\u001b[1;33m\u001b[0m\u001b[1;33m\u001b[0m\u001b[1;33m\u001b[0m\u001b[0m\n\u001b[0;32m     17\u001b[0m             \u001b[0mq_jaccard_sim_lst\u001b[0m \u001b[1;33m=\u001b[0m \u001b[1;33m[\u001b[0m\u001b[0mjaccard_sim\u001b[0m\u001b[1;33m(\u001b[0m\u001b[0mquery\u001b[0m\u001b[1;33m,\u001b[0m \u001b[0msim_string\u001b[0m\u001b[1;33m)\u001b[0m \u001b[1;32mfor\u001b[0m \u001b[0msim_string\u001b[0m \u001b[1;32min\u001b[0m \u001b[0msim_strs\u001b[0m\u001b[1;33m]\u001b[0m\u001b[1;33m\u001b[0m\u001b[1;33m\u001b[0m\u001b[0m\n\u001b[1;32m---> 18\u001b[1;33m             \u001b[0mavg_sim\u001b[0m \u001b[1;33m=\u001b[0m \u001b[0mmean\u001b[0m\u001b[1;33m(\u001b[0m\u001b[0mq_jaccard_sim_lst\u001b[0m\u001b[1;33m)\u001b[0m\u001b[1;33m\u001b[0m\u001b[1;33m\u001b[0m\u001b[0m\n\u001b[0m\u001b[0;32m     19\u001b[0m             \u001b[0mavg_lst\u001b[0m\u001b[1;33m.\u001b[0m\u001b[0mappend\u001b[0m\u001b[1;33m(\u001b[0m\u001b[0mavg_sim\u001b[0m\u001b[1;33m)\u001b[0m\u001b[1;33m\u001b[0m\u001b[1;33m\u001b[0m\u001b[0m\n\u001b[0;32m     20\u001b[0m         \u001b[0mprint\u001b[0m\u001b[1;33m(\u001b[0m\u001b[1;34m\"K: \"\u001b[0m \u001b[1;33m+\u001b[0m \u001b[0mstr\u001b[0m\u001b[1;33m(\u001b[0m\u001b[0mkay\u001b[0m\u001b[1;33m)\u001b[0m \u001b[1;33m+\u001b[0m \u001b[1;34m\", L: \"\u001b[0m \u001b[1;33m+\u001b[0m \u001b[0mstr\u001b[0m\u001b[1;33m(\u001b[0m\u001b[0mel\u001b[0m\u001b[1;33m)\u001b[0m \u001b[1;33m+\u001b[0m \u001b[1;34m\", time: \"\u001b[0m \u001b[1;33m+\u001b[0m \u001b[0mstr\u001b[0m\u001b[1;33m(\u001b[0m\u001b[0mtime\u001b[0m\u001b[1;33m.\u001b[0m\u001b[0mtime\u001b[0m\u001b[1;33m(\u001b[0m\u001b[1;33m)\u001b[0m\u001b[1;33m-\u001b[0m\u001b[0mtime2\u001b[0m\u001b[1;33m)\u001b[0m \u001b[1;33m+\u001b[0m \u001b[1;34m\" , avg simiarity:\"\u001b[0m \u001b[1;33m+\u001b[0m \u001b[0mstr\u001b[0m\u001b[1;33m(\u001b[0m\u001b[0mmean\u001b[0m\u001b[1;33m(\u001b[0m\u001b[0mavg_lst\u001b[0m\u001b[1;33m)\u001b[0m\u001b[1;33m)\u001b[0m\u001b[1;33m)\u001b[0m\u001b[1;33m\u001b[0m\u001b[1;33m\u001b[0m\u001b[0m\n",
      "\u001b[1;32m~\\Anaconda3\\lib\\statistics.py\u001b[0m in \u001b[0;36mmean\u001b[1;34m(data)\u001b[0m\n\u001b[0;32m    308\u001b[0m     \u001b[0mn\u001b[0m \u001b[1;33m=\u001b[0m \u001b[0mlen\u001b[0m\u001b[1;33m(\u001b[0m\u001b[0mdata\u001b[0m\u001b[1;33m)\u001b[0m\u001b[1;33m\u001b[0m\u001b[1;33m\u001b[0m\u001b[0m\n\u001b[0;32m    309\u001b[0m     \u001b[1;32mif\u001b[0m \u001b[0mn\u001b[0m \u001b[1;33m<\u001b[0m \u001b[1;36m1\u001b[0m\u001b[1;33m:\u001b[0m\u001b[1;33m\u001b[0m\u001b[1;33m\u001b[0m\u001b[0m\n\u001b[1;32m--> 310\u001b[1;33m         \u001b[1;32mraise\u001b[0m \u001b[0mStatisticsError\u001b[0m\u001b[1;33m(\u001b[0m\u001b[1;34m'mean requires at least one data point'\u001b[0m\u001b[1;33m)\u001b[0m\u001b[1;33m\u001b[0m\u001b[1;33m\u001b[0m\u001b[0m\n\u001b[0m\u001b[0;32m    311\u001b[0m     \u001b[0mT\u001b[0m\u001b[1;33m,\u001b[0m \u001b[0mtotal\u001b[0m\u001b[1;33m,\u001b[0m \u001b[0mcount\u001b[0m \u001b[1;33m=\u001b[0m \u001b[0m_sum\u001b[0m\u001b[1;33m(\u001b[0m\u001b[0mdata\u001b[0m\u001b[1;33m)\u001b[0m\u001b[1;33m\u001b[0m\u001b[1;33m\u001b[0m\u001b[0m\n\u001b[0;32m    312\u001b[0m     \u001b[1;32massert\u001b[0m \u001b[0mcount\u001b[0m \u001b[1;33m==\u001b[0m \u001b[0mn\u001b[0m\u001b[1;33m\u001b[0m\u001b[1;33m\u001b[0m\u001b[0m\n",
      "\u001b[1;31mStatisticsError\u001b[0m: mean requires at least one data point"
     ]
    }
   ],
   "source": [
    "for kay in [2, 3, 4, 5, 6]:\n",
    "    for el in [20, 50, 100]:\n",
    "        hashmin_table = Minhash.HashTable(K = kay, L = el, B = 64, R = 2**10)\n",
    "        time2 = time.time()\n",
    "        id_map2 = {}\n",
    "        eyedee = 0\n",
    "        for strg in urllist[:50000]:\n",
    "            hashmin_table.insert(strg, eyedee)\n",
    "            id_map2[eyedee] = strg\n",
    "            eyedee += 1\n",
    "        avg_lst = []\n",
    "        for query in query_set:\n",
    "            sim_ids = hashmin_table.lookup(query) #the set of similar items\n",
    "            sim_strs = [id_map[aidee] for aidee in sim_ids] # the set of similar strings\n",
    "\n",
    "            #list of the jaccard similarities of the query and the similar results\n",
    "            q_jaccard_sim_lst = [jaccard_sim(query, sim_string) for sim_string in sim_strs]\n",
    "            avg_sim = mean(q_jaccard_sim_lst)\n",
    "            avg_lst.append(avg_sim)\n",
    "        print(\"K: \" + str(kay) + \", L: \" + str(el) + \", time: \" + str(time.time()-time2) + \" , avg simiarity:\" + str(mean(avg_lst)))"
   ]
  },
  {
   "cell_type": "markdown",
   "metadata": {},
   "source": [
    "K: 2, L: 20, time: 240.8646821975708 , avg simiarity:0.237377802633455\n",
    "K: 2, L: 50, time: 326.92490553855896 , avg simiarity:0.22730035431820625\n",
    "K: 2, L: 100, time: 491.1278853416443 , avg simiarity:0.2219665772378992\n",
    "K: 3, L: 20, time: 94.01960778236389 , avg simiarity:0.2581513411860116\n",
    "K: 3, L: 50, time: 310.67729902267456 , avg simiarity:0.23579347629353417\n",
    "K: 3, L: 100, time: 461.5170123577118 , avg simiarity:0.2337374103282454"
   ]
  },
  {
   "attachments": {
    "image.png": {
     "image/png": "[encoded data removed]"
    }
   },
   "cell_type": "markdown",
   "metadata": {},
   "source": [
    "![image.png](attachment:image.png)"
   ]
  },
  {
   "cell_type": "code",
   "execution_count": null,
   "metadata": {},
   "outputs": [],
   "source": []
  }
 ],
 "metadata": {
  "kernelspec": {
   "display_name": "Python 3",
   "language": "python",
   "name": "python3"
  },
  "language_info": {
   "codemirror_mode": {
    "name": "ipython",
    "version": 3
   },
   "file_extension": ".py",
   "mimetype": "text/x-python",
   "name": "python",
   "nbconvert_exporter": "python",
   "pygments_lexer": "ipython3",
   "version": "3.7.4"
  }
 },
 "nbformat": 4,
 "nbformat_minor": 2
}
