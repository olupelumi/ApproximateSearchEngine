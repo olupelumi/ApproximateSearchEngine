{
 "cells": [
  {
   "cell_type": "code",
   "execution_count": 1,
   "metadata": {},
   "outputs": [],
   "source": [
    "#necessary imports\n",
    "import Minhash\n",
    "import csv\n",
    "import pandas as pd"
   ]
  },
  {
   "cell_type": "code",
   "execution_count": 2,
   "metadata": {},
   "outputs": [],
   "source": [
    "#getting in the data we'll be using\n",
    "data = pd.read_csv('user-ct-test-collection-01.txt', sep = \"\\t\")\n",
    "urllist = data.ClickURL.dropna().unique()"
   ]
  },
  {
   "cell_type": "markdown",
   "metadata": {},
   "source": [
    "Insert all URLs to your MinHash Hashtables. Use K = 2, L = 50, B = 64, R = 220 You can treat each URL as a string and use 3-gram in your MinHash function."
   ]
  },
  {
   "cell_type": "code",
   "execution_count": 3,
   "metadata": {},
   "outputs": [
    {
     "data": {
      "text/plain": [
       "377870"
      ]
     },
     "execution_count": 3,
     "metadata": {},
     "output_type": "execute_result"
    }
   ],
   "source": [
    "len(urllist) #there seems to be no duplicates"
   ]
  },
  {
   "cell_type": "markdown",
   "metadata": {},
   "source": [
    "Insert all URLs to your MinHash Hashtables. Use K = 2, L = 50, B = 64, R = 220. You can treat each URL as a string and use 3-gram in your MinHash function."
   ]
  },
  {
   "cell_type": "code",
   "execution_count": 4,
   "metadata": {},
   "outputs": [],
   "source": [
    "minhashTable1 = Minhash.HashTable(K = 2, L = 50, B = 64, R = 2**10)"
   ]
  },
  {
   "cell_type": "code",
   "execution_count": 5,
   "metadata": {},
   "outputs": [],
   "source": [
    "id_map = {} #used to keep track of the ids and strings. an id will map to a string"
   ]
  },
  {
   "cell_type": "code",
   "execution_count": 6,
   "metadata": {},
   "outputs": [],
   "source": [
    "seen_set = set([])"
   ]
  },
  {
   "cell_type": "code",
   "execution_count": 7,
   "metadata": {},
   "outputs": [],
   "source": [
    "eyedee = 0\n",
    "for strg in urllist[:50000]:\n",
    "    if strg not in seen_set:\n",
    "        seen_set.add(strg)\n",
    "        minhashTable1.insert(strg, eyedee)\n",
    "        id_map[eyedee] = strg\n",
    "        eyedee += 1"
   ]
  },
  {
   "cell_type": "code",
   "execution_count": 11,
   "metadata": {},
   "outputs": [
    {
     "data": {
      "text/plain": [
       "80861"
      ]
     },
     "execution_count": 11,
     "metadata": {},
     "output_type": "execute_result"
    }
   ],
   "source": [
    "len(minhashTable1.L_lst[2])"
   ]
  },
  {
   "cell_type": "markdown",
   "metadata": {},
   "source": [
    "### Task 1:\n",
    "Sample 200 URLs from urllist as the query set. For each URL, compute the MinHash codes and retrieve all the items in the hash tables. Evaluate the quality of retrieved items by reporting the average Jaccard similarity of the query URL and retrieved URLs.\n"
   ]
  },
  {
   "cell_type": "code",
   "execution_count": 12,
   "metadata": {},
   "outputs": [],
   "source": [
    "import random\n",
    "random.seed(27)"
   ]
  },
  {
   "cell_type": "code",
   "execution_count": 13,
   "metadata": {},
   "outputs": [],
   "source": [
    "#query_set = set([random.choice(urllist) for i in range(200)])\n",
    "query_set = [random.choice(urllist) for i in range(200)]"
   ]
  },
  {
   "cell_type": "code",
   "execution_count": 18,
   "metadata": {},
   "outputs": [],
   "source": [
    "#Jaccard Similarity\n",
    "def jaccard_sim(str1, str2):\n",
    "    '''\n",
    "    Inputs two strings s1 and s2\n",
    "    Returns the  true jaccard similarity of the two strings\n",
    "    '''\n",
    "    set_str1 = set([])\n",
    "    set_str2 = set([])\n",
    "    \n",
    "    #Creating the three gram representation of each of the strings\n",
    "    #for string 1\n",
    "    for i in range(len(str1)-2):\n",
    "        set_str1.add(str1[i:i+3])\n",
    "    #for string 2\n",
    "    for i in range(len(str1)-2):\n",
    "        set_str2.add(str2[i:i+3])\n",
    "    \n",
    "    #calculate the cardinality of the intersection and the union of the two\n",
    "    card_intersection = set_str1.intersection(set_str2)\n",
    "    card_union = set_str1.union(set_str2)\n",
    "    return(len(card_intersection)/len(card_union))"
   ]
  },
  {
   "cell_type": "code",
   "execution_count": 19,
   "metadata": {},
   "outputs": [],
   "source": [
    "from statistics import mean "
   ]
  },
  {
   "cell_type": "code",
   "execution_count": null,
   "metadata": {},
   "outputs": [],
   "source": [
    "j_sim_avg_lst = []\n",
    "for query in query_set:\n",
    "    sim_ids = minhashTable1.lookup(query) #the set of similar items\n",
    "    sim_strs = [id_map[aidee] for aidee in sim_ids] # the set of similar strings\n",
    "    avg_sim = mean([jaccard_sim(query, sim_string) for sim_string in sim_strs])\n",
    "    j_sim_avg_lst.append(avg_sim)\n",
    "    "
   ]
  },
  {
   "cell_type": "markdown",
   "metadata": {},
   "source": [
    "1. Report the mean Jaccard similarity of the URL retrieved."
   ]
  },
  {
   "cell_type": "code",
   "execution_count": null,
   "metadata": {},
   "outputs": [],
   "source": [
    "mean(j_sim_avg_lst)"
   ]
  },
  {
   "cell_type": "code",
   "execution_count": null,
   "metadata": {},
   "outputs": [],
   "source": []
  },
  {
   "cell_type": "code",
   "execution_count": null,
   "metadata": {},
   "outputs": [],
   "source": []
  }
 ],
 "metadata": {
  "kernelspec": {
   "display_name": "Python 3",
   "language": "python",
   "name": "python3"
  },
  "language_info": {
   "codemirror_mode": {
    "name": "ipython",
    "version": 3
   },
   "file_extension": ".py",
   "mimetype": "text/x-python",
   "name": "python",
   "nbconvert_exporter": "python",
   "pygments_lexer": "ipython3",
   "version": "3.7.4"
  }
 },
 "nbformat": 4,
 "nbformat_minor": 2
}
